{
  "nbformat": 4,
  "nbformat_minor": 0,
  "metadata": {
    "colab": {
      "provenance": [],
      "authorship_tag": "ABX9TyOKHan9R2EVNodBbScZNN3B",
      "include_colab_link": true
    },
    "kernelspec": {
      "name": "python3",
      "display_name": "Python 3"
    },
    "language_info": {
      "name": "python"
    }
  },
  "cells": [
    {
      "cell_type": "markdown",
      "metadata": {
        "id": "view-in-github",
        "colab_type": "text"
      },
      "source": [
        "<a href=\"https://colab.research.google.com/github/yushut1/geometry/blob/main/Try_Except.ipynb\" target=\"_parent\"><img src=\"https://colab.research.google.com/assets/colab-badge.svg\" alt=\"Open In Colab\"/></a>"
      ]
    },
    {
      "cell_type": "code",
      "execution_count": 7,
      "metadata": {
        "colab": {
          "base_uri": "https://localhost:8080/"
        },
        "id": "xMTKpsPaN_GV",
        "outputId": "0a2684a1-1a05-4bfb-fc64-9ac2f5edf1a3"
      },
      "outputs": [
        {
          "output_type": "stream",
          "name": "stdout",
          "text": [
            "Введите число: W\n",
            "Введите лучше число\n",
            "Надеюсь разобрался!\n",
            "Введите число: 4\n",
            "9\n",
            "Надеюсь разобрался!\n"
          ]
        }
      ],
      "source": [
        "x = 0\n",
        "while x == 0:\n",
        "  try:\n",
        "    x = int(input(\"Введите число: \"))\n",
        "    x += 5\n",
        "    print(x)\n",
        "  except ValueError:\n",
        "    print(\"Введите лучше число\")\n",
        "  finally:\n",
        "    print(\"Надеюсь разобрался!\")\n"
      ]
    }
  ]
}