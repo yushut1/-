{
  "nbformat": 4,
  "nbformat_minor": 0,
  "metadata": {
    "colab": {
      "provenance": [],
      "authorship_tag": "ABX9TyOpYfKUCUsZqfLo6OVjqCtm",
      "include_colab_link": true
    },
    "kernelspec": {
      "name": "python3",
      "display_name": "Python 3"
    },
    "language_info": {
      "name": "python"
    }
  },
  "cells": [
    {
      "cell_type": "markdown",
      "metadata": {
        "id": "view-in-github",
        "colab_type": "text"
      },
      "source": [
        "<a href=\"https://colab.research.google.com/github/yushut1/geometry/blob/main/Files.ipynb\" target=\"_parent\"><img src=\"https://colab.research.google.com/assets/colab-badge.svg\" alt=\"Open In Colab\"/></a>"
      ]
    },
    {
      "cell_type": "code",
      "execution_count": 14,
      "metadata": {
        "id": "KzNkR6Gkd0CS"
      },
      "outputs": [],
      "source": [
        "file = open(\"text.txt\", \"w\")\n",
        "\n",
        "file.write(\"Hello world!\")\n",
        "\n",
        "file.close()"
      ]
    },
    {
      "cell_type": "code",
      "source": [
        "data = input()\n",
        "\n",
        "file = open(\"text1.txt\", \"w\")\n",
        "\n",
        "file.write(data)\n",
        "\n",
        "file.close()\n",
        "\n"
      ],
      "metadata": {
        "colab": {
          "base_uri": "https://localhost:8080/"
        },
        "id": "Dmd06wiifmTR",
        "outputId": "3c8c8576-4dc0-4a42-93cc-6dd6af46d7c8"
      },
      "execution_count": 11,
      "outputs": [
        {
          "name": "stdout",
          "output_type": "stream",
          "text": [
            "Hi\n"
          ]
        }
      ]
    },
    {
      "cell_type": "code",
      "source": [
        "file = open(\"text.txt\", \"r\")\n",
        "\n",
        "#print(file.read())\n",
        "\n",
        "for line in file:\n",
        "  print(line, end=\"\")\n",
        "\n",
        "file.close()"
      ],
      "metadata": {
        "colab": {
          "base_uri": "https://localhost:8080/"
        },
        "id": "niC-0pryh5ey",
        "outputId": "39bd449b-2673-4f4a-aeb9-b6fd492e6a1a"
      },
      "execution_count": 16,
      "outputs": [
        {
          "output_type": "stream",
          "name": "stdout",
          "text": [
            "Hello world!"
          ]
        }
      ]
    }
  ]
}